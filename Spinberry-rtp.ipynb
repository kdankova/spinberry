{
  "nbformat": 4,
  "nbformat_minor": 0,
  "metadata": {
    "colab": {
      "provenance": []
    },
    "kernelspec": {
      "name": "python3",
      "display_name": "Python 3"
    },
    "language_info": {
      "name": "python"
    }
  },
  "cells": [
    {
      "cell_type": "markdown",
      "source": [
        "# Техническое задание Spinberry"
      ],
      "metadata": {
        "id": "8S7KfVRgDN8D"
      }
    },
    {
      "cell_type": "markdown",
      "source": [
        "**Описание игры:** слот-машина на трех барабанах с одной платежной линией (классический однорукий бандит). Выплата идет за 3 символа на линии\n",
        "\n",
        "Символы: Вишня, Персик, Черешня, Манго, Апельсин, Банан\n",
        "Выплата за 3 символа (в ставках):\n",
        "Вишня: x0.5\n",
        "Персик: x0.5\n",
        "Черешня: x1\n",
        "Манго: x1\n",
        "Апельсин: x2\n",
        "Банан: x5\n",
        "\n",
        "**Определение RTP:** RTP (= Return to player) - величина, которая определяется для слот-машины как “Суммарный выигрыш за все спины” / “Суммарную ставку за все спины” * 100%\n",
        "\n",
        "\n",
        "\n",
        "\n",
        "**Задача:** создать набор лент для заданной слот-машины, чтобы RTP равнялось 95% (погрешность +- 0.5%). Все символы должны использоваться, и все комбинации должны хоть когда-нибудь выплачиваться (т.е. нельзя сделать ленты только на вишенках). Предоставить подтверждающую статистику"
      ],
      "metadata": {
        "id": "Si-Q0I4ek9l4"
      }
    },
    {
      "cell_type": "code",
      "source": [
        "import pandas as pd\n",
        "\n",
        "symbols = [\"Cherry\", \"Peach\", \"Grape\", \"Mango\", \"Orange\", \"Banana\"]\n",
        "payouts = {\"Cherry\": 0.5, \"Peach\": 0.5, \"Grape\": 1, \"Mango\": 1, \"Orange\": 2, \"Banana\": 5}\n",
        "\n",
        "reel_size = 100\n",
        "target_rtp = 0.95"
      ],
      "metadata": {
        "id": "GHpbmSlNswMv"
      },
      "execution_count": null,
      "outputs": []
    },
    {
      "cell_type": "code",
      "source": [
        "def calculate_rtp_optimized(reel_counts, payouts, reel_size):\n",
        "      \"\"\"\n",
        "    Calculate the Return to Player (RTP) for the current reel distribution.\n",
        "\n",
        "    Args:\n",
        "        reel_counts (dict): A dictionary with symbols as keys and their counts as values.\n",
        "        payouts (dict): A dictionary with symbols as keys and their payout multipliers as values.\n",
        "        reel_size (int): Total number of slots on the reel.\n",
        "\n",
        "    Returns:\n",
        "        float: RTP value as a percentage.\n",
        "    \"\"\"\n",
        "    rtp = 0\n",
        "    for symbol, count in reel_counts.items():\n",
        "        # Вероятность того, что символ выпадет на всех трех барабанах\n",
        "        prob = (count / reel_size) ** 3\n",
        "        # Увеличиваем RTP с учетом вероятности и выплаты для символа\n",
        "        rtp += prob * payouts[symbol]\n",
        "    return rtp * 100  # Конвертация в проценты"
      ],
      "metadata": {
        "id": "z8tE5Jrl6u-6"
      },
      "execution_count": null,
      "outputs": []
    },
    {
      "cell_type": "code",
      "source": [
        "def probability_weighted_adjustment(target_rtp, payouts, reel_size):\n",
        "      \"\"\"\n",
        "    Create an initial distribution of symbols based on payouts and probabilities.\n",
        "\n",
        "    Args:\n",
        "        target_rtp (float): Target RTP value as a decimal.\n",
        "        payouts (dict): A dictionary with symbols as keys and their payout multipliers as values.\n",
        "        reel_size (int): Total number of slots on the reel.\n",
        "\n",
        "    Returns:\n",
        "        dict: Initial distribution of symbols.\n",
        "    \"\"\"\n",
        "    total_payout = sum(payouts.values())\n",
        "    reel_counts = {\n",
        "        symbol: max(1, int(reel_size * (payouts[symbol] / total_payout))) for symbol in payouts\n",
        "    }\n",
        "\n",
        "    # Корректировка с учетом вероятностей\n",
        "    for symbol in payouts:\n",
        "        weight = payouts[symbol] / total_payout\n",
        "        reel_counts[symbol] = max(1, int(reel_counts[symbol] * (1 - weight)))\n",
        "\n",
        "    # Обеспечение общей суммы символов, равной размеру барабана\n",
        "    total_adjusted = sum(reel_counts.values())\n",
        "    difference = reel_size - total_adjusted\n",
        "    for symbol in sorted(payouts, key=payouts.get, reverse=(difference > 0)):\n",
        "        reel_counts[symbol] += difference\n",
        "        if sum(reel_counts.values()) == reel_size:\n",
        "            break\n",
        "\n",
        "    return reel_counts"
      ],
      "metadata": {
        "id": "0jamR81Q7e0b"
      },
      "execution_count": null,
      "outputs": []
    },
    {
      "cell_type": "code",
      "source": [
        "def refine_rtp_to_target(reel_counts, payouts, target_rtp, reel_size, tolerance=0.005):\n",
        "      \"\"\"\n",
        "    Refine the reel distribution to achieve the target RTP.\n",
        "\n",
        "    Args:\n",
        "        reel_counts (dict): Initial reel distribution.\n",
        "        payouts (dict): A dictionary with symbols as keys and their payout multipliers as values.\n",
        "        target_rtp (float): Target RTP value as a decimal.\n",
        "        reel_size (int): Total number of slots on the reel.\n",
        "        tolerance (float): Allowed deviation from the target RTP.\n",
        "\n",
        "    Returns:\n",
        "        tuple: Refined reel distribution and achieved RTP.\n",
        "    \"\"\"\n",
        "    current_rtp = calculate_rtp_optimized(reel_counts, payouts, reel_size)\n",
        "\n",
        "    # Итеративно корректируем, пока RTP не окажется в пределах целевого значения\n",
        "    while abs(current_rtp - target_rtp * 100) > tolerance:\n",
        "        if current_rtp > target_rtp * 100:\n",
        "            # Уменьшаем символы с высокими выплатами\n",
        "            for symbol in sorted(payouts, key=payouts.get, reverse=True):\n",
        "                if reel_counts[symbol] > 1:\n",
        "                    reel_counts[symbol] -= 1\n",
        "                    break\n",
        "        else:\n",
        "            # Увеличиваем символы с низкими выплатами\n",
        "            for symbol in sorted(payouts, key=payouts.get):\n",
        "                reel_counts[symbol] += 1\n",
        "                break\n",
        "\n",
        "        # Перерасчёт RTP после каждой корректировки\n",
        "        current_rtp = calculate_rtp_optimized(reel_counts, payouts, reel_size)\n",
        "\n",
        "    return reel_counts, current_rtp"
      ],
      "metadata": {
        "id": "Z3JMgLZh7Sur"
      },
      "execution_count": null,
      "outputs": []
    },
    {
      "cell_type": "code",
      "source": [
        "# Настройка барабанов с использованием предыдущего подхода\n",
        "initial_reel_counts = probability_weighted_adjustment(target_rtp, payouts, reel_size)\n",
        "\n",
        "# Уточнение до целевого RTP\n",
        "final_reel_counts, final_rtp = refine_rtp_to_target(initial_reel_counts, payouts, target_rtp, reel_size)\n",
        "\n",
        "# Создание DataFrame для отображения распределения\n",
        "final_reel_distribution = pd.DataFrame.from_dict(final_reel_counts, orient=\"index\", columns=[\"Count\"])\n",
        "final_reel_distribution[\"Probability\"] = final_reel_distribution[\"Count\"] / reel_size\n",
        "final_reel_distribution[\"Payout\"] = final_reel_distribution.index.map(payouts)\n",
        "final_reel_distribution[\"Expected Contribution\"] = (\n",
        "    final_reel_distribution[\"Probability\"] ** 3 * final_reel_distribution[\"Payout\"]\n",
        ")\n",
        "\n",
        "# Вывод результатов\n",
        "print(\"Final Reel Distribution:\")\n",
        "print(final_reel_distribution)\n",
        "print(f\"\\nFinal RTP: {final_rtp}%\")\n"
      ],
      "metadata": {
        "colab": {
          "base_uri": "https://localhost:8080/"
        },
        "id": "gisnxoz7vH24",
        "outputId": "f7ed02be-7da4-4cca-d245-dc1fdf0376aa"
      },
      "execution_count": null,
      "outputs": [
        {
          "output_type": "stream",
          "name": "stdout",
          "text": [
            "Final Reel Distribution:\n",
            "        Count  Probability  Payout  Expected Contribution\n",
            "Cherry     78         0.78     0.5               0.237276\n",
            "Peach       4         0.04     0.5               0.000032\n",
            "Grape       9         0.09     1.0               0.000729\n",
            "Mango       9         0.09     1.0               0.000729\n",
            "Orange     16         0.16     2.0               0.008192\n",
            "Banana     52         0.52     5.0               0.703040\n",
            "\n",
            "Final RTP: 94.99980000000001%\n"
          ]
        }
      ]
    },
    {
      "cell_type": "markdown",
      "source": [
        "ручная проверка"
      ],
      "metadata": {
        "id": "00U0bQijxzaS"
      }
    },
    {
      "cell_type": "code",
      "source": [
        "manual_rtp = 0\n",
        "for symbol, count in final_reel_counts.items():\n",
        "    prob = (count / reel_size) ** 3\n",
        "    manual_rtp += prob * payouts[symbol]\n",
        "manual_rtp *= 100\n",
        "\n",
        "print(f\"Manual RTP: {manual_rtp}%\")\n"
      ],
      "metadata": {
        "colab": {
          "base_uri": "https://localhost:8080/"
        },
        "id": "yQQkuZPQxCqk",
        "outputId": "4590acb0-1abe-4caa-bb2a-e7c8cac05843"
      },
      "execution_count": null,
      "outputs": [
        {
          "output_type": "stream",
          "name": "stdout",
          "text": [
            "Manual RTP: 94.99980000000001%\n"
          ]
        }
      ]
    }
  ]
}